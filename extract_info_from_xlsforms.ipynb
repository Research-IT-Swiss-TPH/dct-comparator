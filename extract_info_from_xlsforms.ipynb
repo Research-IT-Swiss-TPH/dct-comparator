{
 "cells": [
  {
   "cell_type": "raw",
   "metadata": {},
   "source": [
    "---\n",
    "title: \"Comparison ODK forms - demo\"\n",
    "author: \"H. Langet\"\n",
    "date: last-modified\n",
    "execute:\n",
    "  warning: false\n",
    "format:\n",
    "  html:\n",
    "    code-fold: true\n",
    "  pdf:\n",
    "    classoption: [landscape]\n",
    "    toc: true\n",
    "    lot: true\n",
    "    geometry:\n",
    "      - top=15mm\n",
    "      - bottom=25mm\n",
    "      - left=15mm\n",
    "      - right=15mm\n",
    "params:\n",
    "---"
   ]
  },
  {
   "cell_type": "code",
   "execution_count": 1,
   "metadata": {},
   "outputs": [],
   "source": [
    "#| tags: [parameters]\n",
    "root = r\"inputs\""
   ]
  },
  {
   "cell_type": "code",
   "execution_count": null,
   "metadata": {},
   "outputs": [],
   "source": [
    "#| echo: false\n",
    "import pandas as pd\n",
    "import os\n",
    "import numpy as np\n",
    "import Form as form\n",
    "import FormComparator as comp"
   ]
  },
  {
   "cell_type": "markdown",
   "metadata": {},
   "source": [
    "# WHO verbal autopsy comparisons"
   ]
  },
  {
   "cell_type": "code",
   "execution_count": null,
   "metadata": {},
   "outputs": [],
   "source": [
    "in_xlsx1 = os.path.join(root, r\"WHOVA2016_v1_5_3_XLS_form_for_ODK.xlsx\")\n",
    "if os.path.exists(in_xlsx1) and in_xlsx1.endswith('.xlsx'):\n",
    "    f1 = form.Form(in_xlsx1,\n",
    "                   survey_type = \"WHO VA autopsy\")\n",
    "in_xlsx2 = os.path.join(root, r\"WHOVA2022_XLS_form_for_ODK.xlsx\")\n",
    "if os.path.exists(in_xlsx2) and in_xlsx2.endswith('.xlsx'):\n",
    "    f2 = form.Form(in_xlsx2,\n",
    "                   survey_type = \"WHO VA autopsy\")"
   ]
  },
  {
   "cell_type": "markdown",
   "metadata": {},
   "source": [
    "## Generic comparison"
   ]
  },
  {
   "cell_type": "code",
   "execution_count": null,
   "metadata": {},
   "outputs": [],
   "source": [
    "comparison = comp.FormComparator(f1, f2, output_dir = \"outputs\")"
   ]
  },
  {
   "cell_type": "markdown",
   "metadata": {},
   "source": [
    "## Comparison based on variable names"
   ]
  },
  {
   "cell_type": "markdown",
   "metadata": {},
   "source": [
    "Note:\n",
    "\n",
    "* Identified added questions are displayed with the variable name and label of the closest label match in the reference XLSForm.\n",
    "* Identified removed questions are displayed with the variable name and label of the closest label match in the target XLSForm."
   ]
  },
  {
   "cell_type": "code",
   "execution_count": null,
   "metadata": {},
   "outputs": [],
   "source": [
    "#| tbl-cap: \"SPA exit interview - Senegal vs. Tanzania - Added variable names\"\n",
    "f1.detectAddedQuestions(f2)"
   ]
  },
  {
   "cell_type": "code",
   "execution_count": null,
   "metadata": {},
   "outputs": [],
   "source": [
    "#| tbl-cap: \"SPA exit interview - Senegal vs. Tanzania - Removed variable names\"\n",
    "f1.detectDeletedQuestions(f2)"
   ]
  },
  {
   "cell_type": "code",
   "execution_count": null,
   "metadata": {},
   "outputs": [],
   "source": [
    "major, minor = f1.detectModifiedLabels(f2)"
   ]
  },
  {
   "cell_type": "code",
   "execution_count": null,
   "metadata": {},
   "outputs": [],
   "source": [
    "#| tbl-cap: \"SPA exit interview - Senegal vs. Tanzania - Variable names with major label modifications\"\n",
    "major"
   ]
  },
  {
   "cell_type": "code",
   "execution_count": null,
   "metadata": {},
   "outputs": [],
   "source": [
    "#| tbl-cap: \"SPA exit interview - Senegal vs. Tanzania - Variable names with minor label modifications\"\n",
    "minor"
   ]
  },
  {
   "cell_type": "code",
   "execution_count": null,
   "metadata": {},
   "outputs": [],
   "source": [
    "#| tbl-cap: \"SPA exit interview - Senegal vs. Tanzania - Variable names with type modifications\"\n",
    "f1.detectModifiedTypes(f2)"
   ]
  },
  {
   "cell_type": "markdown",
   "metadata": {},
   "source": [
    "# RCT Day 0 form comparison"
   ]
  },
  {
   "cell_type": "code",
   "execution_count": null,
   "metadata": {},
   "outputs": [],
   "source": [
    "in_xlsx3 = os.path.join(root, r\"06 Tanzania\\1-RCT-LS\\01a-TIMCI-CRF-Facility-ref-form\\01a-TIMCI-CRF-Facility-ref-form.xlsx\")\n",
    "in_xlsx4 = os.path.join(root, r\"05 Senegal\\1-RCT-LS\\01a-TIMCI-CRF-Facility-Senegal-form\\01a-TIMCI-CRF-Facility-Senegal-form.xlsx\")\n",
    "f3 = form.Form(in_xlsx3,\n",
    "               survey_type = \"RCT/LS day 0 form\")\n",
    "\n",
    "f4 = form.Form(in_xlsx4,\n",
    "               survey_type = \"RCT/LS day 0 form\")"
   ]
  },
  {
   "cell_type": "code",
   "execution_count": null,
   "metadata": {},
   "outputs": [],
   "source": [
    "## Generic comparison"
   ]
  },
  {
   "cell_type": "code",
   "execution_count": null,
   "metadata": {},
   "outputs": [],
   "source": [
    "print(f3.compare(f4))"
   ]
  },
  {
   "cell_type": "markdown",
   "metadata": {},
   "source": [
    "## Comparison based on variable names"
   ]
  },
  {
   "cell_type": "code",
   "execution_count": null,
   "metadata": {
    "scrolled": true
   },
   "outputs": [],
   "source": [
    "#| tbl-cap: \"Main Day 0 - Senegal vs. Tanzania - Added variable names\"\n",
    "f3.detectAddedQuestions(f4)"
   ]
  },
  {
   "cell_type": "code",
   "execution_count": null,
   "metadata": {},
   "outputs": [],
   "source": [
    "#| tbl-cap: \"Main Day 0 - Senegal vs. Tanzania - Removed variable names\"\n",
    "f3.detectDeletedQuestions(f4)"
   ]
  },
  {
   "cell_type": "code",
   "execution_count": null,
   "metadata": {},
   "outputs": [],
   "source": [
    "major, minor = f3.detectModifiedLabels(f4)"
   ]
  },
  {
   "cell_type": "code",
   "execution_count": null,
   "metadata": {},
   "outputs": [],
   "source": [
    "#| tbl-cap: \"Main Day 0 - Senegal vs. Tanzania - Variable names with major label modifications\"\n",
    "major"
   ]
  },
  {
   "cell_type": "code",
   "execution_count": null,
   "metadata": {},
   "outputs": [],
   "source": [
    "#| tbl-cap: \"Main Day 0 - Senegal vs. Tanzania - Variable names with minor label modifications\"\n",
    "minor"
   ]
  },
  {
   "cell_type": "code",
   "execution_count": null,
   "metadata": {},
   "outputs": [],
   "source": [
    "#| tbl-cap: \"Main Day 0 - Senegal vs. Tanzania - Variable names with type modifications\"\n",
    "f3.detectModifiedTypes(f4)"
   ]
  },
  {
   "cell_type": "markdown",
   "metadata": {},
   "source": [
    "# Inter-form tests"
   ]
  },
  {
   "cell_type": "code",
   "execution_count": null,
   "metadata": {},
   "outputs": [],
   "source": [
    "#| tbl-cap: \"Tanzania - Main Day 0 vs. SPA exit interview - Added variable names\"\n",
    "f3.detectAddedQuestions(f1)"
   ]
  },
  {
   "cell_type": "code",
   "execution_count": null,
   "metadata": {},
   "outputs": [],
   "source": [
    "#| tbl-cap: \"Tanzania - Main Day 0 vs. SPA exit interview - Removed variable names\"\n",
    "f3.detectDeletedQuestions(f1)"
   ]
  },
  {
   "cell_type": "code",
   "execution_count": null,
   "metadata": {},
   "outputs": [],
   "source": [
    "f3.detectSimilarLabels(f1)"
   ]
  },
  {
   "cell_type": "markdown",
   "metadata": {},
   "source": [
    "# Test for choices"
   ]
  },
  {
   "cell_type": "code",
   "execution_count": null,
   "metadata": {},
   "outputs": [],
   "source": [
    "#choices_df[\"list_name\"].dropna().unique()"
   ]
  }
 ],
 "metadata": {
  "kernelspec": {
   "display_name": "Python 3 (ipykernel)",
   "language": "python",
   "name": "python3"
  },
  "language_info": {
   "codemirror_mode": {
    "name": "ipython",
    "version": 3
   },
   "file_extension": ".py",
   "mimetype": "text/x-python",
   "name": "python",
   "nbconvert_exporter": "python",
   "pygments_lexer": "ipython3",
   "version": "3.13.2"
  }
 },
 "nbformat": 4,
 "nbformat_minor": 4
}
