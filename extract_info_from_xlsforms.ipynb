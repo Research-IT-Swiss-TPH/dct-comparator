{
 "cells": [
  {
   "cell_type": "raw",
   "metadata": {},
   "source": [
    "---\n",
    "title: \"Comparison ODK forms - demo\"\n",
    "author:\n",
    "  - name:\n",
    "      given: Hélène\n",
    "      family: Langet\n",
    "    affiliations:\n",
    "      - name: Swiss Tropical and Public Health Institute (Swiss TPH)\n",
    "      - name: University of Basel (UniBas)\n",
    "    orcid: 0000-0002-6758-2397\n",
    "    email: helene.langet@swisstph.ch\n",
    "date: last-modified\n",
    "\n",
    "execute:\n",
    "  warning: false\n",
    "\n",
    "format:\n",
    "  html:\n",
    "    code-fold: true\n",
    "    embed-resources: true\n",
    "---"
   ]
  },
  {
   "cell_type": "markdown",
   "metadata": {},
   "source": [
    "Parameter where XLSForms are stored"
   ]
  },
  {
   "cell_type": "code",
   "execution_count": 1,
   "metadata": {},
   "outputs": [],
   "source": [
    "#| tags: [parameters]\n",
    "root = r\"inputs\""
   ]
  },
  {
   "cell_type": "markdown",
   "metadata": {},
   "source": [
    "Load libraries"
   ]
  },
  {
   "cell_type": "code",
   "execution_count": 2,
   "metadata": {},
   "outputs": [
    {
     "name": "stderr",
     "output_type": "stream",
     "text": [
      "[nltk_data] Downloading package punkt_tab to\n",
      "[nltk_data]     C:\\Users\\langhe\\AppData\\Roaming\\nltk_data...\n",
      "[nltk_data]   Package punkt_tab is already up-to-date!\n",
      "[nltk_data] Downloading package stopwords to\n",
      "[nltk_data]     C:\\Users\\langhe\\AppData\\Roaming\\nltk_data...\n",
      "[nltk_data]   Package stopwords is already up-to-date!\n"
     ]
    }
   ],
   "source": [
    "import pandas as pd\n",
    "import os\n",
    "import numpy as np\n",
    "import FormComparator as comp"
   ]
  },
  {
   "cell_type": "markdown",
   "metadata": {},
   "source": [
    "# WHO verbal autopsy comparisons"
   ]
  },
  {
   "cell_type": "code",
   "execution_count": 3,
   "metadata": {},
   "outputs": [],
   "source": [
    "f2014_xlsx = os.path.join(root, r\"WHO_VA_2014_RC1_indicators.xlsx\")"
   ]
  },
  {
   "cell_type": "code",
   "execution_count": 4,
   "metadata": {},
   "outputs": [],
   "source": [
    "f2016_xlsx = os.path.join(root, r\"WHOVA2016_v1_5_3_XLS_form_for_ODK.xlsx\")"
   ]
  },
  {
   "cell_type": "code",
   "execution_count": 5,
   "metadata": {},
   "outputs": [],
   "source": [
    "f2022_xlsx = os.path.join(root, r\"WHOVA2022_XLS_form_for_ODK.xlsx\")"
   ]
  },
  {
   "cell_type": "markdown",
   "metadata": {},
   "source": [
    "## Generic comparison"
   ]
  },
  {
   "cell_type": "code",
   "execution_count": 6,
   "metadata": {},
   "outputs": [
    {
     "name": "stdout",
     "output_type": "stream",
     "text": [
      "📝 Create Form object from WHOVA2016_v1_5_3_XLS_form_for_ODK.xlsx\n",
      "\t - ℹ️ survey sheet with 14 columns and 599 rows\n",
      "\t - ℹ️ choices sheet with 4 columns and 301 rows\n",
      "\t - ℹ️ settings sheet with 5 columns\n",
      "\t - ℹ️ no entities sheet found\n",
      "📝 Create Form object from WHO_VA_2014_RC1_indicators.xlsx\n",
      "\t - ℹ️ survey sheet with 15 columns and 433 rows\n"
     ]
    },
    {
     "name": "stderr",
     "output_type": "stream",
     "text": [
      "C:\\Users\\langhe\\.conda\\envs\\python_who\\Lib\\site-packages\\openpyxl\\worksheet\\_reader.py:329: UserWarning: Unknown extension is not supported and will be removed\n",
      "  warn(msg)\n",
      "C:\\Users\\langhe\\.conda\\envs\\python_who\\Lib\\site-packages\\openpyxl\\worksheet\\_reader.py:329: UserWarning: Unknown extension is not supported and will be removed\n",
      "  warn(msg)\n"
     ]
    },
    {
     "name": "stdout",
     "output_type": "stream",
     "text": [
      "\t - ℹ️ choices sheet with 4 columns and 143 rows\n"
     ]
    },
    {
     "name": "stderr",
     "output_type": "stream",
     "text": [
      "C:\\Users\\langhe\\.conda\\envs\\python_who\\Lib\\site-packages\\openpyxl\\worksheet\\_reader.py:329: UserWarning: Unknown extension is not supported and will be removed\n",
      "  warn(msg)\n"
     ]
    },
    {
     "name": "stdout",
     "output_type": "stream",
     "text": [
      "\t - ℹ️ settings sheet with 4 columns\n",
      "\t - ℹ️ no entities sheet found\n",
      "📝 Compare forms and store results in outputs\\va_who_v1_5_3#2020070101!va_who_2014_final10#None.xlsx\n"
     ]
    }
   ],
   "source": [
    "comparison = comp.FormComparator(cur_xlsx = f2016_xlsx,\n",
    "                                 ref_xlsx = f2014_xlsx,\n",
    "                                 output_dir = \"outputs\")"
   ]
  },
  {
   "cell_type": "code",
   "execution_count": 7,
   "metadata": {},
   "outputs": [
    {
     "name": "stdout",
     "output_type": "stream",
     "text": [
      "📝 Create Form object from WHOVA2022_XLS_form_for_ODK.xlsx\n",
      "\t - ℹ️ survey sheet with 18 columns and 509 rows\n",
      "\t - ℹ️ choices sheet with 4 columns and 272 rows\n",
      "\t - ℹ️ settings sheet with 5 columns\n",
      "\t - ℹ️ no entities sheet found\n",
      "📝 Create Form object from WHOVA2016_v1_5_3_XLS_form_for_ODK.xlsx\n",
      "\t - ℹ️ survey sheet with 14 columns and 599 rows\n",
      "\t - ℹ️ choices sheet with 4 columns and 301 rows\n",
      "\t - ℹ️ settings sheet with 5 columns\n",
      "\t - ℹ️ no entities sheet found\n",
      "📝 Compare forms and store results in outputs\\va_who_2022#2023072701!va_who_v1_5_3#2020070101.xlsx\n"
     ]
    }
   ],
   "source": [
    "comparison = comp.FormComparator(cur_xlsx = f2022_xlsx,\n",
    "                                 ref_xlsx = f2016_xlsx,\n",
    "                                 output_dir = \"outputs\")"
   ]
  },
  {
   "cell_type": "code",
   "execution_count": 8,
   "metadata": {},
   "outputs": [
    {
     "name": "stdout",
     "output_type": "stream",
     "text": [
      "📝 Create Form object from WHOVA2016_v1_5_3_XLS_form_for_ODK.xlsx\n",
      "\t - ℹ️ survey sheet with 14 columns and 599 rows\n",
      "\t - ℹ️ choices sheet with 4 columns and 301 rows\n",
      "\t - ℹ️ settings sheet with 5 columns\n",
      "\t - ℹ️ no entities sheet found\n"
     ]
    },
    {
     "data": {
      "text/html": [
       "<div>\n",
       "<style scoped>\n",
       "    .dataframe tbody tr th:only-of-type {\n",
       "        vertical-align: middle;\n",
       "    }\n",
       "\n",
       "    .dataframe tbody tr th {\n",
       "        vertical-align: top;\n",
       "    }\n",
       "\n",
       "    .dataframe thead th {\n",
       "        text-align: right;\n",
       "    }\n",
       "</style>\n",
       "<table border=\"1\" class=\"dataframe\">\n",
       "  <thead>\n",
       "    <tr style=\"text-align: right;\">\n",
       "      <th></th>\n",
       "      <th>list_name</th>\n",
       "      <th>name</th>\n",
       "      <th>label::English</th>\n",
       "      <th>label::French</th>\n",
       "    </tr>\n",
       "  </thead>\n",
       "  <tbody>\n",
       "    <tr>\n",
       "      <th>1</th>\n",
       "      <td>age_group</td>\n",
       "      <td>neonate</td>\n",
       "      <td>Neonate</td>\n",
       "      <td>nouveau-né</td>\n",
       "    </tr>\n",
       "    <tr>\n",
       "      <th>2</th>\n",
       "      <td>age_group</td>\n",
       "      <td>child</td>\n",
       "      <td>Child</td>\n",
       "      <td>enfant</td>\n",
       "    </tr>\n",
       "    <tr>\n",
       "      <th>3</th>\n",
       "      <td>age_group</td>\n",
       "      <td>adult</td>\n",
       "      <td>Adult</td>\n",
       "      <td>adulte</td>\n",
       "    </tr>\n",
       "    <tr>\n",
       "      <th>5</th>\n",
       "      <td>YES_NO_REF</td>\n",
       "      <td>yes</td>\n",
       "      <td>Yes</td>\n",
       "      <td>Oui</td>\n",
       "    </tr>\n",
       "    <tr>\n",
       "      <th>6</th>\n",
       "      <td>YES_NO_REF</td>\n",
       "      <td>no</td>\n",
       "      <td>No</td>\n",
       "      <td>Non</td>\n",
       "    </tr>\n",
       "    <tr>\n",
       "      <th>...</th>\n",
       "      <td>...</td>\n",
       "      <td>...</td>\n",
       "      <td>...</td>\n",
       "      <td>...</td>\n",
       "    </tr>\n",
       "    <tr>\n",
       "      <th>351</th>\n",
       "      <td>select_531</td>\n",
       "      <td>positive</td>\n",
       "      <td>Positive</td>\n",
       "      <td>NaN</td>\n",
       "    </tr>\n",
       "    <tr>\n",
       "      <th>352</th>\n",
       "      <td>select_531</td>\n",
       "      <td>negative</td>\n",
       "      <td>Negative</td>\n",
       "      <td>NaN</td>\n",
       "    </tr>\n",
       "    <tr>\n",
       "      <th>353</th>\n",
       "      <td>select_531</td>\n",
       "      <td>unclear</td>\n",
       "      <td>Unclear</td>\n",
       "      <td>NaN</td>\n",
       "    </tr>\n",
       "    <tr>\n",
       "      <th>354</th>\n",
       "      <td>select_531</td>\n",
       "      <td>dk</td>\n",
       "      <td>Don’t know</td>\n",
       "      <td>NaN</td>\n",
       "    </tr>\n",
       "    <tr>\n",
       "      <th>355</th>\n",
       "      <td>select_531</td>\n",
       "      <td>ref</td>\n",
       "      <td>Refused to answer</td>\n",
       "      <td>NaN</td>\n",
       "    </tr>\n",
       "  </tbody>\n",
       "</table>\n",
       "<p>301 rows × 4 columns</p>\n",
       "</div>"
      ],
      "text/plain": [
       "      list_name      name     label::English label::French\n",
       "1     age_group   neonate            Neonate    nouveau-né\n",
       "2     age_group     child              Child        enfant\n",
       "3     age_group     adult              Adult        adulte\n",
       "5    YES_NO_REF       yes                Yes           Oui\n",
       "6    YES_NO_REF        no                 No           Non\n",
       "..          ...       ...                ...           ...\n",
       "351  select_531  positive           Positive           NaN\n",
       "352  select_531  negative           Negative           NaN\n",
       "353  select_531   unclear            Unclear           NaN\n",
       "354  select_531        dk         Don’t know           NaN\n",
       "355  select_531       ref  Refused to answer           NaN\n",
       "\n",
       "[301 rows x 4 columns]"
      ]
     },
     "execution_count": 8,
     "metadata": {},
     "output_type": "execute_result"
    }
   ],
   "source": [
    "import Form as form\n",
    "f = form.Form(f2016_xlsx)\n",
    "f.choices"
   ]
  },
  {
   "cell_type": "code",
   "execution_count": null,
   "metadata": {},
   "outputs": [],
   "source": []
  },
  {
   "cell_type": "code",
   "execution_count": null,
   "metadata": {},
   "outputs": [],
   "source": []
  }
 ],
 "metadata": {
  "kernelspec": {
   "display_name": "Python 3 (ipykernel)",
   "language": "python",
   "name": "python3"
  },
  "language_info": {
   "codemirror_mode": {
    "name": "ipython",
    "version": 3
   },
   "file_extension": ".py",
   "mimetype": "text/x-python",
   "name": "python",
   "nbconvert_exporter": "python",
   "pygments_lexer": "ipython3",
   "version": "3.13.2"
  }
 },
 "nbformat": 4,
 "nbformat_minor": 4
}
