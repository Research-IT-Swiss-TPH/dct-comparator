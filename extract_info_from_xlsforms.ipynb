{
 "cells": [
  {
   "cell_type": "raw",
   "metadata": {},
   "source": [
    "---\n",
    "title: \"Comparison ODK forms - demo\"\n",
    "author: \"H. Langet\"\n",
    "date: last-modified\n",
    "execute:\n",
    "  warning: false\n",
    "format:\n",
    "  html:\n",
    "    code-fold: true\n",
    "  pdf:\n",
    "    classoption: [landscape]\n",
    "    toc: true\n",
    "    lot: true\n",
    "    geometry:\n",
    "      - top=15mm\n",
    "      - bottom=25mm\n",
    "      - left=15mm\n",
    "      - right=15mm\n",
    "---"
   ]
  },
  {
   "cell_type": "code",
   "execution_count": 1,
   "metadata": {},
   "outputs": [
    {
     "name": "stderr",
     "output_type": "stream",
     "text": [
      "[nltk_data] Downloading package punkt_tab to\n",
      "[nltk_data]     C:\\Users\\langhe\\AppData\\Roaming\\nltk_data...\n",
      "[nltk_data]   Package punkt_tab is already up-to-date!\n",
      "[nltk_data] Downloading package stopwords to\n",
      "[nltk_data]     C:\\Users\\langhe\\AppData\\Roaming\\nltk_data...\n",
      "[nltk_data]   Package stopwords is already up-to-date!\n"
     ]
    }
   ],
   "source": [
    "#| echo: false\n",
    "import pandas as pd\n",
    "import os\n",
    "import numpy as np\n",
    "import Form as form"
   ]
  },
  {
   "cell_type": "code",
   "execution_count": 2,
   "metadata": {},
   "outputs": [],
   "source": [
    "root = r\"C:\\Users\\langhe\\switchdrive\\Institution\\TIMCI\\1 Project details\\11 DM\\3 ODK\\odk_forms\""
   ]
  },
  {
   "cell_type": "markdown",
   "metadata": {},
   "source": [
    "# SPA exit interview comparisons"
   ]
  },
  {
   "cell_type": "code",
   "execution_count": 3,
   "metadata": {},
   "outputs": [
    {
     "name": "stdout",
     "output_type": "stream",
     "text": [
      "Create Form object from 02-TIMCI-SPA-CGEI-ref-form.xlsx\n",
      "\t - Info: no entities sheet found\n",
      "Create Form object from 02-TIMCI-SPA-CGEI-ref-form.xlsx\n",
      "\t - Info: no entities sheet found\n"
     ]
    }
   ],
   "source": [
    "in_xlsx1 = os.path.join(root, r\"06 Tanzania\\2-SPA-timeflow\\02-TIMCI-SPA-CGEI-ref-form\\02-TIMCI-SPA-CGEI-ref-form.xlsx\")\n",
    "f1 = form.Form(in_xlsx1,\n",
    "               survey_type = \"SPA exit interview\")\n",
    "in_xlsx2 = os.path.join(root, r\"05 Senegal\\2-SPA-timeflow\\02-TIMCI-SPA-CGEI-ref-form\\02-TIMCI-SPA-CGEI-ref-form.xlsx\")\n",
    "f2 = form.Form(in_xlsx2,\n",
    "               survey_type = \"SPA exit interview\")"
   ]
  },
  {
   "cell_type": "markdown",
   "metadata": {},
   "source": [
    "## Generic comparison"
   ]
  },
  {
   "cell_type": "code",
   "execution_count": 4,
   "metadata": {},
   "outputs": [
    {
     "name": "stdout",
     "output_type": "stream",
     "text": [
      "\n"
     ]
    }
   ],
   "source": [
    "print(f1.compare(f2, output_xlsx = \"test.xlsx\"))"
   ]
  },
  {
   "cell_type": "markdown",
   "metadata": {},
   "source": [
    "## Comparison based on variable names"
   ]
  },
  {
   "cell_type": "markdown",
   "metadata": {},
   "source": [
    "Note:\n",
    "\n",
    "* Identified added questions are displayed with the variable name and label of the closest label match in the reference XLSForm.\n",
    "* Identified removed questions are displayed with the variable name and label of the closest label match in the target XLSForm."
   ]
  },
  {
   "cell_type": "code",
   "execution_count": 5,
   "metadata": {},
   "outputs": [
    {
     "ename": "TypeError",
     "evalue": "fuzzy_join() got an unexpected keyword argument 'how'",
     "output_type": "error",
     "traceback": [
      "\u001b[1;31m---------------------------------------------------------------------------\u001b[0m",
      "\u001b[1;31mTypeError\u001b[0m                                 Traceback (most recent call last)",
      "Cell \u001b[1;32mIn[5], line 2\u001b[0m\n\u001b[0;32m      1\u001b[0m \u001b[38;5;66;03m#| tbl-cap: \"SPA exit interview - Senegal vs. Tanzania - Added variable names\"\u001b[39;00m\n\u001b[1;32m----> 2\u001b[0m f1\u001b[38;5;241m.\u001b[39mdetectAddedQuestions(f2)\n",
      "File \u001b[1;32m~\\Documents\\GitHub\\odk_xlsform_management\\Form.py:333\u001b[0m, in \u001b[0;36mForm.detectAddedQuestions\u001b[1;34m(self, f)\u001b[0m\n\u001b[0;32m    331\u001b[0m     tmp \u001b[38;5;241m=\u001b[39m \u001b[38;5;28mself\u001b[39m\u001b[38;5;241m.\u001b[39m_questions\u001b[38;5;241m.\u001b[39mcopy(deep\u001b[38;5;241m=\u001b[39m\u001b[38;5;28;01mTrue\u001b[39;00m)\n\u001b[0;32m    332\u001b[0m     tmp \u001b[38;5;241m=\u001b[39m tmp[tmp[\u001b[38;5;28mself\u001b[39m\u001b[38;5;241m.\u001b[39m_label]\u001b[38;5;241m.\u001b[39mnotnull()]\n\u001b[1;32m--> 333\u001b[0m     out \u001b[38;5;241m=\u001b[39m skrub\u001b[38;5;241m.\u001b[39mfuzzy_join(out[[\u001b[38;5;124m\"\u001b[39m\u001b[38;5;124mrow\u001b[39m\u001b[38;5;124m\"\u001b[39m, \u001b[38;5;124m\"\u001b[39m\u001b[38;5;124mname\u001b[39m\u001b[38;5;124m\"\u001b[39m, \u001b[38;5;124m\"\u001b[39m\u001b[38;5;124mlabel\u001b[39m\u001b[38;5;124m\"\u001b[39m]],\n\u001b[0;32m    334\u001b[0m                            tmp[[\u001b[38;5;124m\"\u001b[39m\u001b[38;5;124mindex\u001b[39m\u001b[38;5;124m\"\u001b[39m, \u001b[38;5;124m\"\u001b[39m\u001b[38;5;124mname\u001b[39m\u001b[38;5;124m\"\u001b[39m, \u001b[38;5;28mself\u001b[39m\u001b[38;5;241m.\u001b[39m_label]],\n\u001b[0;32m    335\u001b[0m                            left_on\u001b[38;5;241m=\u001b[39m\u001b[38;5;124m'\u001b[39m\u001b[38;5;124mlabel\u001b[39m\u001b[38;5;124m'\u001b[39m,\n\u001b[0;32m    336\u001b[0m                            right_on\u001b[38;5;241m=\u001b[39m\u001b[38;5;28mself\u001b[39m\u001b[38;5;241m.\u001b[39m_label,\n\u001b[0;32m    337\u001b[0m                            how\u001b[38;5;241m=\u001b[39m\u001b[38;5;124m'\u001b[39m\u001b[38;5;124mleft\u001b[39m\u001b[38;5;124m'\u001b[39m,\n\u001b[0;32m    338\u001b[0m                            match_score\u001b[38;5;241m=\u001b[39m\u001b[38;5;241m0\u001b[39m,\n\u001b[0;32m    339\u001b[0m                            return_score\u001b[38;5;241m=\u001b[39m\u001b[38;5;28;01mTrue\u001b[39;00m)\n\u001b[0;32m    340\u001b[0m     out \u001b[38;5;241m=\u001b[39m out[[\u001b[38;5;124m\"\u001b[39m\u001b[38;5;124mrow\u001b[39m\u001b[38;5;124m\"\u001b[39m,\n\u001b[0;32m    341\u001b[0m                \u001b[38;5;124m\"\u001b[39m\u001b[38;5;124mname_x\u001b[39m\u001b[38;5;124m\"\u001b[39m,\n\u001b[0;32m    342\u001b[0m               \u001b[38;5;124m\"\u001b[39m\u001b[38;5;124mlabel\u001b[39m\u001b[38;5;124m\"\u001b[39m,\n\u001b[1;32m   (...)\u001b[0m\n\u001b[0;32m    349\u001b[0m               \u001b[38;5;241m.\u001b[39mfillna(\u001b[38;5;124m\"\u001b[39m\u001b[38;5;124m\"\u001b[39m) \\\n\u001b[0;32m    350\u001b[0m               \u001b[38;5;241m.\u001b[39mreset_index(drop\u001b[38;5;241m=\u001b[39m\u001b[38;5;28;01mTrue\u001b[39;00m)\n\u001b[0;32m    352\u001b[0m \u001b[38;5;28;01mreturn\u001b[39;00m out\n",
      "\u001b[1;31mTypeError\u001b[0m: fuzzy_join() got an unexpected keyword argument 'how'"
     ]
    }
   ],
   "source": [
    "#| tbl-cap: \"SPA exit interview - Senegal vs. Tanzania - Added variable names\"\n",
    "f1.detectAddedQuestions(f2)"
   ]
  },
  {
   "cell_type": "code",
   "execution_count": null,
   "metadata": {},
   "outputs": [],
   "source": [
    "#| tbl-cap: \"SPA exit interview - Senegal vs. Tanzania - Removed variable names\"\n",
    "f1.detectDeletedQuestions(f2)"
   ]
  },
  {
   "cell_type": "code",
   "execution_count": null,
   "metadata": {},
   "outputs": [],
   "source": [
    "major, minor = f1.detectModifiedLabels(f2)"
   ]
  },
  {
   "cell_type": "code",
   "execution_count": null,
   "metadata": {},
   "outputs": [],
   "source": [
    "#| tbl-cap: \"SPA exit interview - Senegal vs. Tanzania - Variable names with major label modifications\"\n",
    "major"
   ]
  },
  {
   "cell_type": "code",
   "execution_count": null,
   "metadata": {},
   "outputs": [],
   "source": [
    "#| tbl-cap: \"SPA exit interview - Senegal vs. Tanzania - Variable names with minor label modifications\"\n",
    "minor"
   ]
  },
  {
   "cell_type": "code",
   "execution_count": null,
   "metadata": {},
   "outputs": [],
   "source": [
    "#| tbl-cap: \"SPA exit interview - Senegal vs. Tanzania - Variable names with type modifications\"\n",
    "f1.detectModifiedTypes(f2)"
   ]
  },
  {
   "cell_type": "markdown",
   "metadata": {},
   "source": [
    "# RCT Day 0 form comparison"
   ]
  },
  {
   "cell_type": "code",
   "execution_count": null,
   "metadata": {},
   "outputs": [],
   "source": [
    "in_xlsx3 = os.path.join(root, r\"06 Tanzania\\1-RCT-LS\\01a-TIMCI-CRF-Facility-ref-form\\01a-TIMCI-CRF-Facility-ref-form.xlsx\")\n",
    "in_xlsx4 = os.path.join(root, r\"05 Senegal\\1-RCT-LS\\01a-TIMCI-CRF-Facility-Senegal-form\\01a-TIMCI-CRF-Facility-Senegal-form.xlsx\")\n",
    "f3 = form.Form(in_xlsx3,\n",
    "               survey_type = \"RCT/LS day 0 form\")\n",
    "\n",
    "f4 = form.Form(in_xlsx4,\n",
    "               survey_type = \"RCT/LS day 0 form\")"
   ]
  },
  {
   "cell_type": "code",
   "execution_count": null,
   "metadata": {},
   "outputs": [],
   "source": [
    "## Generic comparison"
   ]
  },
  {
   "cell_type": "code",
   "execution_count": null,
   "metadata": {},
   "outputs": [],
   "source": [
    "print(f3.compare(f4))"
   ]
  },
  {
   "cell_type": "markdown",
   "metadata": {},
   "source": [
    "## Comparison based on variable names"
   ]
  },
  {
   "cell_type": "code",
   "execution_count": null,
   "metadata": {},
   "outputs": [],
   "source": [
    "#| tbl-cap: \"Main Day 0 - Senegal vs. Tanzania - Added variable names\"\n",
    "f3.detectAddedQuestions(f4)"
   ]
  },
  {
   "cell_type": "code",
   "execution_count": null,
   "metadata": {},
   "outputs": [],
   "source": [
    "#| tbl-cap: \"Main Day 0 - Senegal vs. Tanzania - Removed variable names\"\n",
    "f3.detectDeletedQuestions(f4)"
   ]
  },
  {
   "cell_type": "code",
   "execution_count": null,
   "metadata": {},
   "outputs": [],
   "source": [
    "major, minor = f3.detectModifiedLabels(f4)"
   ]
  },
  {
   "cell_type": "code",
   "execution_count": null,
   "metadata": {},
   "outputs": [],
   "source": [
    "#| tbl-cap: \"Main Day 0 - Senegal vs. Tanzania - Variable names with major label modifications\"\n",
    "major"
   ]
  },
  {
   "cell_type": "code",
   "execution_count": null,
   "metadata": {},
   "outputs": [],
   "source": [
    "#| tbl-cap: \"Main Day 0 - Senegal vs. Tanzania - Variable names with minor label modifications\"\n",
    "minor"
   ]
  },
  {
   "cell_type": "code",
   "execution_count": null,
   "metadata": {},
   "outputs": [],
   "source": [
    "#| tbl-cap: \"Main Day 0 - Senegal vs. Tanzania - Variable names with type modifications\"\n",
    "f3.detectModifiedTypes(f4)"
   ]
  },
  {
   "cell_type": "markdown",
   "metadata": {},
   "source": [
    "# Inter-form tests"
   ]
  },
  {
   "cell_type": "code",
   "execution_count": null,
   "metadata": {},
   "outputs": [],
   "source": [
    "#| tbl-cap: \"Tanzania - Main Day 0 vs. SPA exit interview - Added variable names\"\n",
    "f3.detectAddedQuestions(f1)"
   ]
  },
  {
   "cell_type": "code",
   "execution_count": null,
   "metadata": {},
   "outputs": [],
   "source": [
    "#| tbl-cap: \"Tanzania - Main Day 0 vs. SPA exit interview - Removed variable names\"\n",
    "f3.detectDeletedQuestions(f1)"
   ]
  },
  {
   "cell_type": "code",
   "execution_count": null,
   "metadata": {},
   "outputs": [],
   "source": [
    "f3.detectSimilarLabels(f1)"
   ]
  },
  {
   "cell_type": "markdown",
   "metadata": {},
   "source": [
    "# Test for choices"
   ]
  },
  {
   "cell_type": "code",
   "execution_count": null,
   "metadata": {},
   "outputs": [],
   "source": [
    "#choices_df[\"list_name\"].dropna().unique()"
   ]
  }
 ],
 "metadata": {
  "kernelspec": {
   "display_name": "Python 3 (ipykernel)",
   "language": "python",
   "name": "python3"
  },
  "language_info": {
   "codemirror_mode": {
    "name": "ipython",
    "version": 3
   },
   "file_extension": ".py",
   "mimetype": "text/x-python",
   "name": "python",
   "nbconvert_exporter": "python",
   "pygments_lexer": "ipython3",
   "version": "3.13.2"
  }
 },
 "nbformat": 4,
 "nbformat_minor": 4
}
