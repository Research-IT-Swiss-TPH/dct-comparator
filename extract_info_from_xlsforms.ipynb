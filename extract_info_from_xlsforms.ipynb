{
 "cells": [
  {
   "cell_type": "raw",
   "metadata": {},
   "source": [
    "---\n",
    "title: \"Comparison ODK forms - demo\"\n",
    "author: \"H. Langet\"\n",
    "date: last-modified\n",
    "execute:\n",
    "  warning: false\n",
    "format:\n",
    "  html:\n",
    "    code-fold: true\n",
    "  pdf:\n",
    "    classoption: [landscape]\n",
    "    toc: true\n",
    "    lot: true\n",
    "    geometry:\n",
    "      - top=15mm\n",
    "      - bottom=25mm\n",
    "      - left=15mm\n",
    "      - right=15mm\n",
    "params:\n",
    "---"
   ]
  },
  {
   "cell_type": "code",
   "execution_count": 1,
   "metadata": {},
   "outputs": [],
   "source": [
    "#| tags: [parameters]\n",
    "root = r\"inputs\""
   ]
  },
  {
   "cell_type": "code",
   "execution_count": null,
   "metadata": {},
   "outputs": [],
   "source": [
    "#| echo: false\n",
    "import pandas as pd\n",
    "import os\n",
    "import numpy as np\n",
    "import Form as form\n",
    "import FormComparator as comp"
   ]
  },
  {
   "cell_type": "markdown",
   "metadata": {},
   "source": [
    "# WHO verbal autopsy comparisons"
   ]
  },
  {
   "cell_type": "code",
   "execution_count": null,
   "metadata": {},
   "outputs": [],
   "source": [
    "in_xlsx1 = os.path.join(root, r\"WHOVA2016_v1_5_3_XLS_form_for_ODK.xlsx\")\n",
    "f1 = form.Form(in_xlsx1, survey_type = \"WHO VA autopsy\")"
   ]
  },
  {
   "cell_type": "code",
   "execution_count": null,
   "metadata": {},
   "outputs": [],
   "source": [
    "in_xlsx2 = os.path.join(root, r\"WHOVA2022_XLS_form_for_ODK.xlsx\")\n",
    "f2 = form.Form(in_xlsx2, survey_type = \"WHO VA autopsy\")"
   ]
  },
  {
   "cell_type": "markdown",
   "metadata": {},
   "source": [
    "## Generic comparison"
   ]
  },
  {
   "cell_type": "code",
   "execution_count": null,
   "metadata": {},
   "outputs": [],
   "source": [
    "comparison = comp.FormComparator(cur_form = f2,\n",
    "                                 ref_form = f1,\n",
    "                                 output_dir = \"outputs\")"
   ]
  }
 ],
 "metadata": {
  "kernelspec": {
   "display_name": "Python 3 (ipykernel)",
   "language": "python",
   "name": "python3"
  },
  "language_info": {
   "codemirror_mode": {
    "name": "ipython",
    "version": 3
   },
   "file_extension": ".py",
   "mimetype": "text/x-python",
   "name": "python",
   "nbconvert_exporter": "python",
   "pygments_lexer": "ipython3",
   "version": "3.13.2"
  }
 },
 "nbformat": 4,
 "nbformat_minor": 4
}
