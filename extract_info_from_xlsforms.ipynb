{
 "cells": [
  {
   "cell_type": "raw",
   "metadata": {},
   "source": [
    "---\n",
    "title: \"Comparison ODK forms - demo\"\n",
    "author:\n",
    "  - name:\n",
    "      given: Hélène\n",
    "      family: Langet\n",
    "    affiliations:\n",
    "      - name: Swiss Tropical and Public Health Institute (Swiss TPH)\n",
    "      - name: University of Basel (UniBas)\n",
    "    orcid: 0000-0002-6758-2397\n",
    "    email: helene.langet@swisstph.ch\n",
    "  - name:\n",
    "      given: Marco\n",
    "      family: Pereira\n",
    "    affiliations:\n",
    "      - name: Swiss Tropical and Public Health Institute (Swiss TPH)\n",
    "      - name: University of Basel (UniBas)\n",
    "    email: marco.pereira@swisstph.ch\n",
    "date: last-modified\n",
    "\n",
    "execute:\n",
    "  warning: false\n",
    "\n",
    "format:\n",
    "  html:\n",
    "    code-fold: true\n",
    "    embed-resources: true\n",
    "---"
   ]
  },
  {
   "cell_type": "markdown",
   "metadata": {},
   "source": [
    "Parameter where XLSForms are stored"
   ]
  },
  {
   "cell_type": "code",
   "execution_count": 1,
   "metadata": {},
   "outputs": [],
   "source": [
    "#| tags: [parameters]\n",
    "root = r\"inputs\""
   ]
  },
  {
   "cell_type": "markdown",
   "metadata": {},
   "source": [
    "Load libraries"
   ]
  },
  {
   "cell_type": "code",
   "execution_count": 2,
   "metadata": {},
   "outputs": [
    {
     "name": "stderr",
     "output_type": "stream",
     "text": [
      "[nltk_data] Downloading package punkt_tab to\n",
      "[nltk_data]     C:\\Users\\langhe\\AppData\\Roaming\\nltk_data...\n",
      "[nltk_data]   Package punkt_tab is already up-to-date!\n",
      "[nltk_data] Downloading package stopwords to\n",
      "[nltk_data]     C:\\Users\\langhe\\AppData\\Roaming\\nltk_data...\n",
      "[nltk_data]   Package stopwords is already up-to-date!\n"
     ]
    }
   ],
   "source": [
    "import pandas as pd\n",
    "import os\n",
    "import numpy as np\n",
    "import FormComparator as comp"
   ]
  },
  {
   "cell_type": "markdown",
   "metadata": {},
   "source": [
    "# WHO verbal autopsy comparisons"
   ]
  },
  {
   "cell_type": "code",
   "execution_count": 3,
   "metadata": {},
   "outputs": [],
   "source": [
    "in_xlsx1 = os.path.join(root, r\"WHOVA2016_v1_5_3_XLS_form_for_ODK.xlsx\")"
   ]
  },
  {
   "cell_type": "code",
   "execution_count": 4,
   "metadata": {},
   "outputs": [],
   "source": [
    "in_xlsx2 = os.path.join(root, r\"WHOVA2022_XLS_form_for_ODK.xlsx\")"
   ]
  },
  {
   "cell_type": "markdown",
   "metadata": {},
   "source": [
    "## Generic comparison"
   ]
  },
  {
   "cell_type": "code",
   "execution_count": 5,
   "metadata": {},
   "outputs": [
    {
     "name": "stdout",
     "output_type": "stream",
     "text": [
      "📝 Create Form object from WHOVA2016_v1_5_3_XLS_form_for_ODK.xlsx\n",
      "\t - ℹ️ survey sheet with 14 columns and 600 rows\n",
      "\t - ℹ️ choices sheet with 4 columns and 301 rows\n",
      "\t - ℹ️ settings sheet with 5 columns\n",
      "\t - ℹ️ no entities sheet found\n",
      "📝 Create Form object from WHOVA2022_XLS_form_for_ODK.xlsx\n",
      "\t - ℹ️ survey sheet with 18 columns and 509 rows\n",
      "\t - ℹ️ choices sheet with 4 columns and 272 rows\n",
      "\t - ℹ️ settings sheet with 5 columns\n",
      "\t - ℹ️ no entities sheet found\n",
      "📝 Compare forms and store results in outputs\\comparison_results.xlsx\n"
     ]
    }
   ],
   "source": [
    "comparison = comp.FormComparator(cur_xlsx = in_xlsx1,\n",
    "                                 ref_xlsx = in_xlsx2,\n",
    "                                 output_dir = \"outputs\")"
   ]
  },
  {
   "cell_type": "code",
   "execution_count": null,
   "metadata": {},
   "outputs": [],
   "source": []
  }
 ],
 "metadata": {
  "kernelspec": {
   "display_name": "Python 3 (ipykernel)",
   "language": "python",
   "name": "python3"
  },
  "language_info": {
   "codemirror_mode": {
    "name": "ipython",
    "version": 3
   },
   "file_extension": ".py",
   "mimetype": "text/x-python",
   "name": "python",
   "nbconvert_exporter": "python",
   "pygments_lexer": "ipython3",
   "version": "3.13.2"
  }
 },
 "nbformat": 4,
 "nbformat_minor": 4
}
