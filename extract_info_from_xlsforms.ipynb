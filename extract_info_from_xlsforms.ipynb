{
 "cells": [
  {
   "cell_type": "code",
   "execution_count": 1,
   "metadata": {},
   "outputs": [],
   "source": [
    "import pandas as pd\n",
    "import os\n",
    "import numpy as np\n",
    "import form"
   ]
  },
  {
   "cell_type": "code",
   "execution_count": 2,
   "metadata": {},
   "outputs": [],
   "source": [
    "in_xlsx = r\"C:\\Users\\langhe\\switchdrive\\Institution\\TIMCI\\1 Project details\\11 DM\\3 ODK\\odk_forms\\06 Tanzania\\2-SPA-timeflow\\02-TIMCI-SPA-CGEI-ref-form\\02-TIMCI-SPA-CGEI-ref-form.xlsx\""
   ]
  },
  {
   "cell_type": "code",
   "execution_count": 3,
   "metadata": {},
   "outputs": [],
   "source": [
    "def read_xlsform(in_xlsx):\n",
    "    \n",
    "    survey_df = pd.read_excel(in_xlsx, sheet_name=\"survey\")\n",
    "    choices_df = pd.read_excel(in_xlsx, sheet_name=\"survey\")\n",
    "    settings_df = pd.read_excel(in_xlsx, sheet_name=\"settings\")\n",
    "    \n",
    "    return survey_df, choices_df, settings_df"
   ]
  },
  {
   "cell_type": "code",
   "execution_count": 4,
   "metadata": {},
   "outputs": [],
   "source": [
    "def create_form_from_xls(in_xlsx):\n",
    "    \n",
    "    out = form.Form(in_xlsx, survey = \"SPA exit interview\")\n",
    "\n",
    "    return out"
   ]
  },
  {
   "cell_type": "code",
   "execution_count": 5,
   "metadata": {},
   "outputs": [
    {
     "data": {
      "text/plain": [
       "(0.445,)"
      ]
     },
     "execution_count": 5,
     "metadata": {},
     "output_type": "execute_result"
    }
   ],
   "source": [
    "f1 = create_form_from_xls(in_xlsx)\n",
    "f1.getVersion()"
   ]
  },
  {
   "cell_type": "code",
   "execution_count": 6,
   "metadata": {},
   "outputs": [
    {
     "data": {
      "text/html": [
       "<div>\n",
       "<style scoped>\n",
       "    .dataframe tbody tr th:only-of-type {\n",
       "        vertical-align: middle;\n",
       "    }\n",
       "\n",
       "    .dataframe tbody tr th {\n",
       "        vertical-align: top;\n",
       "    }\n",
       "\n",
       "    .dataframe thead th {\n",
       "        text-align: right;\n",
       "    }\n",
       "</style>\n",
       "<table border=\"1\" class=\"dataframe\">\n",
       "  <thead>\n",
       "    <tr style=\"text-align: right;\">\n",
       "      <th></th>\n",
       "      <th>form_title</th>\n",
       "      <th>form_id</th>\n",
       "      <th>instance_name</th>\n",
       "      <th>version</th>\n",
       "      <th>style</th>\n",
       "      <th>default_language</th>\n",
       "    </tr>\n",
       "  </thead>\n",
       "  <tbody>\n",
       "    <tr>\n",
       "      <th>0</th>\n",
       "      <td>02 TIMCI SPA Caregiver Exit Interview Form</td>\n",
       "      <td>02-TIMCI-SPA-cgei</td>\n",
       "      <td>concat(${today},'-spa-cgei-',${pid})</td>\n",
       "      <td>0.445</td>\n",
       "      <td>pages</td>\n",
       "      <td>Swahili (sw)</td>\n",
       "    </tr>\n",
       "  </tbody>\n",
       "</table>\n",
       "</div>"
      ],
      "text/plain": [
       "                                   form_title            form_id  \\\n",
       "0  02 TIMCI SPA Caregiver Exit Interview Form  02-TIMCI-SPA-cgei   \n",
       "\n",
       "                          instance_name  version  style default_language  \n",
       "0  concat(${today},'-spa-cgei-',${pid})    0.445  pages     Swahili (sw)  "
      ]
     },
     "execution_count": 6,
     "metadata": {},
     "output_type": "execute_result"
    }
   ],
   "source": [
    "_, _, settings_df = read_xlsform(in_xlsx)\n",
    "settings_df"
   ]
  },
  {
   "cell_type": "code",
   "execution_count": 7,
   "metadata": {},
   "outputs": [
    {
     "data": {
      "text/plain": [
       "'Swahili (sw)'"
      ]
     },
     "execution_count": 7,
     "metadata": {},
     "output_type": "execute_result"
    }
   ],
   "source": [
    "settings_df.loc[0][\"default_language\"]"
   ]
  },
  {
   "cell_type": "code",
   "execution_count": 8,
   "metadata": {},
   "outputs": [
    {
     "name": "stdout",
     "output_type": "stream",
     "text": [
      "Version is identical: (0.445,)\n",
      "Form ID is identical: 02-TIMCI-SPA-cgei\n"
     ]
    }
   ],
   "source": [
    "print(f1.compare(f1))"
   ]
  },
  {
   "cell_type": "code",
   "execution_count": 9,
   "metadata": {},
   "outputs": [
    {
     "data": {
      "text/plain": [
       "0.445"
      ]
     },
     "execution_count": 9,
     "metadata": {},
     "output_type": "execute_result"
    }
   ],
   "source": [
    "settings_df.loc[0][\"version\"]"
   ]
  },
  {
   "cell_type": "code",
   "execution_count": null,
   "metadata": {},
   "outputs": [],
   "source": []
  }
 ],
 "metadata": {
  "kernelspec": {
   "display_name": "Python 3 (ipykernel)",
   "language": "python",
   "name": "python3"
  },
  "language_info": {
   "codemirror_mode": {
    "name": "ipython",
    "version": 3
   },
   "file_extension": ".py",
   "mimetype": "text/x-python",
   "name": "python",
   "nbconvert_exporter": "python",
   "pygments_lexer": "ipython3",
   "version": "3.9.7"
  }
 },
 "nbformat": 4,
 "nbformat_minor": 4
}
