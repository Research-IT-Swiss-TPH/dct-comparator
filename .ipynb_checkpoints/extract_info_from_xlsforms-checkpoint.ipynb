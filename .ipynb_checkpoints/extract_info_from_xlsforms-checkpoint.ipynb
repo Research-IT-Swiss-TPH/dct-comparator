{
 "cells": [
  {
   "cell_type": "raw",
   "metadata": {},
   "source": [
    "---\n",
    "title: \"Test comparison ODK forms\"\n",
    "author: \"H. Langet\"\n",
    "date: 'September 25th, 2023'\n",
    "format:\n",
    "  html:\n",
    "    code-fold: true\n",
    "---"
   ]
  },
  {
   "cell_type": "code",
   "execution_count": null,
   "metadata": {},
   "outputs": [],
   "source": [
    "print(\"ok\")"
   ]
  },
  {
   "cell_type": "code",
   "execution_count": null,
   "metadata": {},
   "outputs": [],
   "source": [
    "import pandas as pd\n",
    "import os\n",
    "import numpy as np\n",
    "import form"
   ]
  },
  {
   "cell_type": "markdown",
   "metadata": {},
   "source": [
    "# SPA exit interview comparisons"
   ]
  },
  {
   "cell_type": "code",
   "execution_count": null,
   "metadata": {},
   "outputs": [],
   "source": [
    "in_xlsx1 = r\"C:\\Users\\langhe\\switchdrive\\Institution\\TIMCI\\1 Project details\\11 DM\\3 ODK\\odk_forms\\06 Tanzania\\2-SPA-timeflow\\02-TIMCI-SPA-CGEI-ref-form\\02-TIMCI-SPA-CGEI-ref-form.xlsx\"\n",
    "in_xlsx2 = r\"C:\\Users\\langhe\\switchdrive\\Institution\\TIMCI\\1 Project details\\11 DM\\3 ODK\\odk_forms\\05 Senegal\\2-SPA-timeflow\\02-TIMCI-SPA-CGEI-ref-form\\02-TIMCI-SPA-CGEI-ref-form.xlsx\"\n",
    "f1 = form.Form(in_xlsx1,\n",
    "               survey = \"SPA exit interview\")\n",
    "f2 = form.Form(in_xlsx2,\n",
    "               survey = \"SPA exit interview\")"
   ]
  },
  {
   "cell_type": "markdown",
   "metadata": {},
   "source": [
    "## Generic comparison"
   ]
  },
  {
   "cell_type": "code",
   "execution_count": null,
   "metadata": {},
   "outputs": [],
   "source": [
    "print(f1.compare(f2))"
   ]
  },
  {
   "cell_type": "markdown",
   "metadata": {},
   "source": [
    "## Comparison based on variable names"
   ]
  },
  {
   "cell_type": "markdown",
   "metadata": {},
   "source": [
    "### Added variable names"
   ]
  },
  {
   "cell_type": "code",
   "execution_count": null,
   "metadata": {},
   "outputs": [],
   "source": [
    "f1.addedQuestions(f2)"
   ]
  },
  {
   "cell_type": "markdown",
   "metadata": {},
   "source": [
    "### Removed variable names"
   ]
  },
  {
   "cell_type": "code",
   "execution_count": null,
   "metadata": {},
   "outputs": [],
   "source": [
    "f1.removedQuestions(f2)"
   ]
  },
  {
   "cell_type": "markdown",
   "metadata": {},
   "source": [
    "### Modified labels for the same variable name"
   ]
  },
  {
   "cell_type": "code",
   "execution_count": null,
   "metadata": {},
   "outputs": [],
   "source": [
    "f1.modifiedLabel(f2)"
   ]
  },
  {
   "cell_type": "markdown",
   "metadata": {},
   "source": [
    "## Comparison based on labels"
   ]
  },
  {
   "cell_type": "markdown",
   "metadata": {},
   "source": [
    "# RCT Day 0 form comparison"
   ]
  },
  {
   "cell_type": "code",
   "execution_count": null,
   "metadata": {},
   "outputs": [],
   "source": [
    "in_xlsx1 = r\"C:\\Users\\langhe\\switchdrive\\Institution\\TIMCI\\1 Project details\\11 DM\\3 ODK\\odk_forms\\06 Tanzania\\1-RCT-LS\\01a-TIMCI-CRF-Facility-ref-form\\01a-TIMCI-CRF-Facility-ref-form.xlsx\"\n",
    "in_xlsx2 = r\"C:\\Users\\langhe\\switchdrive\\Institution\\TIMCI\\1 Project details\\11 DM\\3 ODK\\odk_forms\\05 Senegal\\1-RCT-LS\\01a-TIMCI-CRF-Facility-Senegal-form\\01a-TIMCI-CRF-Facility-Senegal-form.xlsx\"\n",
    "f1 = form.Form(in_xlsx1,\n",
    "               survey = \"RCT/LS day 0 form\")\n",
    "f2 = form.Form(in_xlsx2,\n",
    "               survey = \"RCT/LS day 0 form\")"
   ]
  },
  {
   "cell_type": "code",
   "execution_count": null,
   "metadata": {},
   "outputs": [],
   "source": [
    "f1.addedQuestions(f2)"
   ]
  },
  {
   "cell_type": "markdown",
   "metadata": {},
   "source": [
    "### Removed variable names"
   ]
  },
  {
   "cell_type": "code",
   "execution_count": null,
   "metadata": {},
   "outputs": [],
   "source": [
    "f1.removedQuestions(f2)"
   ]
  },
  {
   "cell_type": "code",
   "execution_count": null,
   "metadata": {},
   "outputs": [],
   "source": [
    "f1.modifiedLabel(f2)"
   ]
  },
  {
   "cell_type": "markdown",
   "metadata": {},
   "source": [
    "# Test for choices"
   ]
  },
  {
   "cell_type": "code",
   "execution_count": null,
   "metadata": {},
   "outputs": [],
   "source": [
    "#choices_df[\"list_name\"].dropna().unique()"
   ]
  }
 ],
 "metadata": {
  "kernelspec": {
   "display_name": "Python 3 (ipykernel)",
   "language": "python",
   "name": "python3"
  },
  "language_info": {
   "codemirror_mode": {
    "name": "ipython",
    "version": 3
   },
   "file_extension": ".py",
   "mimetype": "text/x-python",
   "name": "python",
   "nbconvert_exporter": "python",
   "pygments_lexer": "ipython3",
   "version": "3.9.7"
  }
 },
 "nbformat": 4,
 "nbformat_minor": 4
}
